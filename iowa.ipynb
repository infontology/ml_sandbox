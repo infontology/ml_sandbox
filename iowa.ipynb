{
 "cells": [
  {
   "cell_type": "code",
   "execution_count": null,
   "id": "96f99d7b-3df0-407e-bcc0-a0eb5dcb325f",
   "metadata": {},
   "outputs": [],
   "source": [
    "import pandas as pd"
   ]
  },
  {
   "cell_type": "code",
   "execution_count": null,
   "id": "1a608591-e7de-4cb4-910c-cd60a444c182",
   "metadata": {},
   "outputs": [
    {
     "name": "stdout",
     "output_type": "stream",
     "text": [
      "Untitled.ipynb\tgcp_gpt_classification.ipynb  src  tutorials\n"
     ]
    }
   ],
   "source": [
    "!ls"
   ]
  },
  {
   "cell_type": "code",
   "execution_count": 1,
   "id": "e045e830-ac82-49f8-844e-87107a3f574b",
   "metadata": {},
   "outputs": [
    {
     "ename": "NameError",
     "evalue": "name 'projects' is not defined",
     "output_type": "error",
     "traceback": [
      "\u001b[0;31m---------------------------------------------------------------------------\u001b[0m",
      "\u001b[0;31mNameError\u001b[0m                                 Traceback (most recent call last)",
      "\u001b[0;32m/var/tmp/ipykernel_9052/571767660.py\u001b[0m in \u001b[0;36m<module>\u001b[0;34m\u001b[0m\n\u001b[0;32m----> 1\u001b[0;31m \u001b[0mprojects\u001b[0m\u001b[0;34m/\u001b[0m\u001b[0;36m942952413834\u001b[0m\u001b[0;34m/\u001b[0m\u001b[0msecrets\u001b[0m\u001b[0;34m/\u001b[0m\u001b[0ms1\u001b[0m\u001b[0;34m\u001b[0m\u001b[0;34m\u001b[0m\u001b[0m\n\u001b[0m",
      "\u001b[0;31mNameError\u001b[0m: name 'projects' is not defined"
     ]
    }
   ],
   "source": [
    "projects/942952413834/secrets/s1  "
   ]
  },
  {
   "cell_type": "code",
   "execution_count": 3,
   "id": "69daf321-3cbd-4706-a19d-b3c47c23d2d0",
   "metadata": {},
   "outputs": [],
   "source": [
    "from google.cloud import bigquery"
   ]
  },
  {
   "cell_type": "code",
   "execution_count": 4,
   "id": "da2626fa-ea71-469b-ab5f-debf9c32f7e9",
   "metadata": {},
   "outputs": [
    {
     "ename": "ImportError",
     "evalue": "cannot import name 'secretmanager' from 'google.cloud' (unknown location)",
     "output_type": "error",
     "traceback": [
      "\u001b[0;31m---------------------------------------------------------------------------\u001b[0m",
      "\u001b[0;31mImportError\u001b[0m                               Traceback (most recent call last)",
      "\u001b[0;32m/var/tmp/ipykernel_9052/1059588052.py\u001b[0m in \u001b[0;36m<module>\u001b[0;34m\u001b[0m\n\u001b[0;32m----> 1\u001b[0;31m \u001b[0;32mfrom\u001b[0m \u001b[0mgoogle\u001b[0m\u001b[0;34m.\u001b[0m\u001b[0mcloud\u001b[0m \u001b[0;32mimport\u001b[0m \u001b[0msecretmanager\u001b[0m\u001b[0;34m\u001b[0m\u001b[0;34m\u001b[0m\u001b[0m\n\u001b[0m",
      "\u001b[0;31mImportError\u001b[0m: cannot import name 'secretmanager' from 'google.cloud' (unknown location)"
     ]
    }
   ],
   "source": [
    "from google.cloud import secretmanager\n",
    "#https://www.alexanderjaeger.de/importerror-cannot-import-name-secretmanager-from-google-cloud-unknown-location/\n",
    "#requirements.txt google-cloud-secret-manager==2.0.0"
   ]
  },
  {
   "cell_type": "code",
   "execution_count": 6,
   "id": "f0a0b516-77e0-4c33-aaf1-b56644c80b23",
   "metadata": {},
   "outputs": [],
   "source": [
    "client = bigquery.Client(project='function-1-366607')"
   ]
  },
  {
   "cell_type": "code",
   "execution_count": 8,
   "id": "aae3894e-eecb-4cb3-93e0-45f4ece46831",
   "metadata": {},
   "outputs": [],
   "source": [
    "sql = '''SELECT * FROM `iowa_liquor_sales.sales` LIMIT 1000'''"
   ]
  },
  {
   "cell_type": "code",
   "execution_count": 22,
   "id": "89e2840f-4f98-46e3-9c69-4264aa6cdfe9",
   "metadata": {},
   "outputs": [],
   "source": [
    "sql = '''SELECT distinct item_number\n",
    "#, item_description\n",
    ", pack\n",
    ", bottle_volume_ml\n",
    "#, state_bottle_cost\n",
    "#, state_bottle_retail\n",
    " FROM `function-1-366607.iowa_liquor_sales.sales`'''"
   ]
  },
  {
   "cell_type": "code",
   "execution_count": null,
   "id": "64563e6c-029a-4026-92e8-fd0d22a71821",
   "metadata": {},
   "outputs": [],
   "source": [
    "sql = f'''\n",
    "  SELECT art.title\n",
    "    , art.publication_datetime\n",
    "    , art.language_code\n",
    "    , art.snippet\n",
    "    , art.body\n",
    "    , art.subject_codes\n",
    "    , art.credit\n",
    "    , region_of_origin\n",
    "    , art.industry_codes\n",
    "    --, art.company_codes\n",
    "    , art.company_codes_about\n",
    "    --, art.company_codes_occur\n",
    "  FROM factiva.articles art\n",
    "    WHERE publication_datetime > factiva.timestamp2millis(\"2023-03-01\")\n",
    "    AND regexp_contains(art.body, {company_names}) \n",
    "    AND NOT regexp_contains(art.snippet, {exclude})\n",
    "    AND NOT regexp_contains(art.body, {exclude})\n",
    "    --AND regexp_contains(art.subject_codes, {subjects})\n",
    "    AND language_code NOT IN (\"zhcn\", \"ja\")\n",
    "    --AND regexp_contains(company_codes_about, {companies})\n",
    "    --AND regexp_contains(region_of_origin, \"EUR\") \n",
    "    --AND regexp_contains(art.industry_codes, {inds})\n",
    "  --LIMIT 1000\n",
    "  '''"
   ]
  },
  {
   "cell_type": "code",
   "execution_count": 23,
   "id": "6e489c02-87e7-4d98-b380-2cd771ea228e",
   "metadata": {},
   "outputs": [],
   "source": [
    "df = client.query(sql).to_dataframe() "
   ]
  },
  {
   "cell_type": "code",
   "execution_count": 24,
   "id": "024816ba-e985-4932-9870-908425d0658e",
   "metadata": {},
   "outputs": [
    {
     "data": {
      "text/html": [
       "<div>\n",
       "<style scoped>\n",
       "    .dataframe tbody tr th:only-of-type {\n",
       "        vertical-align: middle;\n",
       "    }\n",
       "\n",
       "    .dataframe tbody tr th {\n",
       "        vertical-align: top;\n",
       "    }\n",
       "\n",
       "    .dataframe thead th {\n",
       "        text-align: right;\n",
       "    }\n",
       "</style>\n",
       "<table border=\"1\" class=\"dataframe\">\n",
       "  <thead>\n",
       "    <tr style=\"text-align: right;\">\n",
       "      <th></th>\n",
       "      <th>item_number</th>\n",
       "      <th>pack</th>\n",
       "      <th>bottle_volume_ml</th>\n",
       "    </tr>\n",
       "  </thead>\n",
       "  <tbody>\n",
       "    <tr>\n",
       "      <th>0</th>\n",
       "      <td>5036</td>\n",
       "      <td>12</td>\n",
       "      <td>750</td>\n",
       "    </tr>\n",
       "    <tr>\n",
       "      <th>1</th>\n",
       "      <td>10805</td>\n",
       "      <td>24</td>\n",
       "      <td>375</td>\n",
       "    </tr>\n",
       "    <tr>\n",
       "      <th>2</th>\n",
       "      <td>12466</td>\n",
       "      <td>12</td>\n",
       "      <td>750</td>\n",
       "    </tr>\n",
       "    <tr>\n",
       "      <th>3</th>\n",
       "      <td>14474</td>\n",
       "      <td>12</td>\n",
       "      <td>750</td>\n",
       "    </tr>\n",
       "    <tr>\n",
       "      <th>4</th>\n",
       "      <td>15626</td>\n",
       "      <td>12</td>\n",
       "      <td>750</td>\n",
       "    </tr>\n",
       "    <tr>\n",
       "      <th>...</th>\n",
       "      <td>...</td>\n",
       "      <td>...</td>\n",
       "      <td>...</td>\n",
       "    </tr>\n",
       "    <tr>\n",
       "      <th>12650</th>\n",
       "      <td>904967</td>\n",
       "      <td>12</td>\n",
       "      <td>750</td>\n",
       "    </tr>\n",
       "    <tr>\n",
       "      <th>12651</th>\n",
       "      <td>937394</td>\n",
       "      <td>6</td>\n",
       "      <td>750</td>\n",
       "    </tr>\n",
       "    <tr>\n",
       "      <th>12652</th>\n",
       "      <td>988591</td>\n",
       "      <td>6</td>\n",
       "      <td>750</td>\n",
       "    </tr>\n",
       "    <tr>\n",
       "      <th>12653</th>\n",
       "      <td>922472</td>\n",
       "      <td>12</td>\n",
       "      <td>1000</td>\n",
       "    </tr>\n",
       "    <tr>\n",
       "      <th>12654</th>\n",
       "      <td>901341</td>\n",
       "      <td>6</td>\n",
       "      <td>100</td>\n",
       "    </tr>\n",
       "  </tbody>\n",
       "</table>\n",
       "<p>12655 rows × 3 columns</p>\n",
       "</div>"
      ],
      "text/plain": [
       "      item_number  pack  bottle_volume_ml\n",
       "0            5036    12               750\n",
       "1           10805    24               375\n",
       "2           12466    12               750\n",
       "3           14474    12               750\n",
       "4           15626    12               750\n",
       "...           ...   ...               ...\n",
       "12650      904967    12               750\n",
       "12651      937394     6               750\n",
       "12652      988591     6               750\n",
       "12653      922472    12              1000\n",
       "12654      901341     6               100\n",
       "\n",
       "[12655 rows x 3 columns]"
      ]
     },
     "execution_count": 24,
     "metadata": {},
     "output_type": "execute_result"
    }
   ],
   "source": [
    "df"
   ]
  },
  {
   "cell_type": "code",
   "execution_count": 25,
   "id": "005c31ba-2531-4bc6-ae41-a3951bfe472a",
   "metadata": {},
   "outputs": [
    {
     "data": {
      "text/plain": [
       "item_number\n",
       "39555          4\n",
       "917951         4\n",
       "39680          4\n",
       "940595         4\n",
       "984160         4\n",
       "              ..\n",
       "56670          1\n",
       "5669           1\n",
       "567            1\n",
       "5672           1\n",
       "x904631        1\n",
       "Length: 12242, dtype: int64"
      ]
     },
     "execution_count": 25,
     "metadata": {},
     "output_type": "execute_result"
    }
   ],
   "source": [
    "df.value_counts(subset=['item_number'])"
   ]
  },
  {
   "cell_type": "code",
   "execution_count": 28,
   "id": "286c4d44-8135-467e-a5b6-84365d236d53",
   "metadata": {},
   "outputs": [
    {
     "data": {
      "text/html": [
       "<div>\n",
       "<style scoped>\n",
       "    .dataframe tbody tr th:only-of-type {\n",
       "        vertical-align: middle;\n",
       "    }\n",
       "\n",
       "    .dataframe tbody tr th {\n",
       "        vertical-align: top;\n",
       "    }\n",
       "\n",
       "    .dataframe thead th {\n",
       "        text-align: right;\n",
       "    }\n",
       "</style>\n",
       "<table border=\"1\" class=\"dataframe\">\n",
       "  <thead>\n",
       "    <tr style=\"text-align: right;\">\n",
       "      <th></th>\n",
       "      <th>item_number</th>\n",
       "      <th>pack</th>\n",
       "      <th>bottle_volume_ml</th>\n",
       "    </tr>\n",
       "  </thead>\n",
       "  <tbody>\n",
       "    <tr>\n",
       "      <th>251</th>\n",
       "      <td>39680</td>\n",
       "      <td>12</td>\n",
       "      <td>50</td>\n",
       "    </tr>\n",
       "    <tr>\n",
       "      <th>6770</th>\n",
       "      <td>39680</td>\n",
       "      <td>10</td>\n",
       "      <td>500</td>\n",
       "    </tr>\n",
       "    <tr>\n",
       "      <th>9553</th>\n",
       "      <td>39680</td>\n",
       "      <td>12</td>\n",
       "      <td>500</td>\n",
       "    </tr>\n",
       "    <tr>\n",
       "      <th>11856</th>\n",
       "      <td>39680</td>\n",
       "      <td>10</td>\n",
       "      <td>50</td>\n",
       "    </tr>\n",
       "  </tbody>\n",
       "</table>\n",
       "</div>"
      ],
      "text/plain": [
       "      item_number  pack  bottle_volume_ml\n",
       "251         39680    12                50\n",
       "6770        39680    10               500\n",
       "9553        39680    12               500\n",
       "11856       39680    10                50"
      ]
     },
     "execution_count": 28,
     "metadata": {},
     "output_type": "execute_result"
    }
   ],
   "source": [
    "df[df['item_number']=='39680']"
   ]
  },
  {
   "cell_type": "code",
   "execution_count": null,
   "id": "00a3aa8a-10d6-4cbd-bf0d-769b0c650b5e",
   "metadata": {},
   "outputs": [],
   "source": []
  }
 ],
 "metadata": {
  "environment": {
   "kernel": "python3",
   "name": "pytorch-gpu.1-13.m108",
   "type": "gcloud",
   "uri": "gcr.io/deeplearning-platform-release/pytorch-gpu.1-13:m108"
  },
  "kernelspec": {
   "display_name": "Python 3",
   "language": "python",
   "name": "python3"
  },
  "language_info": {
   "codemirror_mode": {
    "name": "ipython",
    "version": 3
   },
   "file_extension": ".py",
   "mimetype": "text/x-python",
   "name": "python",
   "nbconvert_exporter": "python",
   "pygments_lexer": "ipython3",
   "version": "3.7.12"
  }
 },
 "nbformat": 4,
 "nbformat_minor": 5
}
